{
 "cells": [
  {
   "cell_type": "code",
   "execution_count": null,
   "metadata": {},
   "outputs": [
    {
     "name": "stdout",
     "output_type": "stream",
     "text": [
      "XGBRegressor 모델 성능:\n",
      "MAE: 107.876, MSE: 17248.822, RMSE: 131.335\n",
      "\n",
      "LGBMRegressor 모델 성능:\n",
      "MAE: 97.313, MSE: 13658.107, RMSE: 116.868\n",
      "\n"
     ]
    }
   ],
   "source": [
    "# Q1_0129. 주어진 data에 대하여 회귀 모델을 사용하여 에너지 사용량을 예측하는 모델을 xgbregressor, lightgbmregressor 모델을 이용하여 모델링 및 평가 mae, mse, rmse 를 수행하세요\n",
    "\n",
    "# # 가상의 데이터 생성\n",
    "# np.random.seed(42)\n",
    "# data_size = 1000\n",
    "# data = {\n",
    "#     'area': np.random.uniform(1000, 3000, data_size),\n",
    "#     'type': np.random.randint(0, 2, data_size),\n",
    "#     'location': np.random.randint(0, 3, data_size),\n",
    "#     'energy_usage': np.random.uniform(200, 600, data_size)  # kWh\n",
    "# }\n",
    "\n",
    "import numpy as np\n",
    "import pandas as pd\n",
    "from xgboost import XGBRegressor\n",
    "from lightgbm import LGBMRegressor\n",
    "from sklearn.model_selection import train_test_split\n",
    "from sklearn.metrics import mean_absolute_error, mean_squared_error\n",
    "\n",
    "# 데이터 생성\n",
    "np.random.seed(42)\n",
    "data_size = 1000\n",
    "data = {\n",
    "    'area': np.random.uniform(1000, 3000, data_size),\n",
    "    'type': np.random.randint(0, 2, data_size),\n",
    "    'location': np.random.randint(0, 3, data_size),\n",
    "    'energy_usage': np.random.uniform(200, 600, data_size)  # kWh\n",
    "}\n",
    "\n",
    "df = pd.DataFrame(data)\n",
    "\n",
    "# 데이터 분할\n",
    "X = df.drop('energy_usage', axis=1)\n",
    "y = df['energy_usage']\n",
    "X_train, X_test, y_train, y_test = train_test_split(X, y, test_size=0.2, random_state=42)\n",
    "\n",
    "# 모델 생성 및 학습\n",
    "#xgboost 모델 훈련에 있어 objective 매개변수는 모델이 최소화하려는 손실함수나 최적화할 목표\n",
    "# XGBRegressor(objective='reg:squarederror, n_estimators=100, learning_rate=0.1') 이 디폴트값\n",
    "# LGBMRegressor(n_estimators=100, learning_rate=0.1) 이 디폴트값\n",
    "\n",
    "models = [XGBRegressor(random_state=42), LGBMRegressor(random_state=42, verbose=-1)]\n",
    "for model in models:\n",
    "    model.fit(X_train, y_train)\n",
    "    y_pred = model.predict(X_test)\n",
    "\n",
    "    # 모델 평가\n",
    "    mae = mean_absolute_error(y_test, y_pred)\n",
    "    mse = mean_squared_error(y_test, y_pred)\n",
    "    rmse = np.sqrt(mse)\n",
    "\n",
    "    print(f'{model.__class__.__name__} 모델 성능:')\n",
    "    print(f'MAE: {mae:.3f}, MSE: {mse:.3f}, RMSE: {rmse:.3f}\\n')\n",
    "\n"
   ]
  }
 ],
 "metadata": {
  "language_info": {
   "name": "python"
  }
 },
 "nbformat": 4,
 "nbformat_minor": 2
}
