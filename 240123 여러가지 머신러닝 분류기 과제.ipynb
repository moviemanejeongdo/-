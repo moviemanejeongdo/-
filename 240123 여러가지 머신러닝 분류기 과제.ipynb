{
 "cells": [
  {
   "cell_type": "code",
   "execution_count": null,
   "metadata": {},
   "outputs": [
    {
     "name": "stdout",
     "output_type": "stream",
     "text": [
      "2\n"
     ]
    },
    {
     "data": {
      "text/plain": [
       "0.6666666666666666"
      ]
     },
     "metadata": {},
     "output_type": "display_data"
    }
   ],
   "source": [
    "# Q1_0123. 날씨에 따른 경기 실행 과거 데이터가 아래와 같다.\n",
    "\n",
    "# 베이즈 분류(Bayesian classification)를 사용하여 \"날씨가 overcast일 때 경기를 할 확률\"을 계산하세요.\n",
    "#Overcast 흐림\n",
    "\n",
    "import pandas as pd\n",
    "\n",
    "# 데이터 생성\n",
    "data = {'Weather': ['Sunny', 'Overcast', 'Rainy', 'Overcast', 'Sunny', 'Sunny', 'Rainy', 'Rainy', 'Overcast', 'Sunny'],\n",
    "        'Play': ['No', 'Yes', 'Yes', 'Yes', 'No', 'Yes', 'No', 'No', 'No', 'Yes']}\n",
    "df = pd.DataFrame(data)\n",
    "\n",
    "# 날씨가 Overcast일 때 경기를 하는 경우의 수\n",
    "overcast_play_yes = df[(df['Weather'] == 'Overcast') & (df['Play'] == 'Yes')].shape[0]   # 날씨 열이 흐림이고 플레이 열이 yes 인 행의 수를 출력\n",
    "print(overcast_play_yes)\n",
    "\n",
    "# 날씨가 Overcast인 전체 경우의 수\n",
    "overcast_total = df[df['Weather'] == 'Overcast'].shape[0]\n",
    "\n",
    "# 베이즈 분류 주어진 조건 하에서 사건이 일어날 확률 -> 날씨가 Overcast일 때 경기를 할 확률 계산\n",
    "probability = overcast_play_yes / overcast_total if overcast_total > 0 else 0\n",
    "\n",
    "probability\n",
    "\n"
   ]
  },
  {
   "cell_type": "code",
   "execution_count": null,
   "metadata": {},
   "outputs": [
    {
     "data": {
      "text/plain": [
       "0.9415204678362573"
      ]
     },
     "metadata": {},
     "output_type": "display_data"
    }
   ],
   "source": [
    "# Q2_0123. 사이킷런 datasets에 있는 load_breast_cancer 데이터에 대하여 GaussianNB 알고리즘을 적용하여 분류 분석 모델링 및 평가를 수행하세요\n",
    "\n",
    "from sklearn.datasets import load_breast_cancer\n",
    "from sklearn.model_selection import train_test_split\n",
    "from sklearn.naive_bayes import GaussianNB\n",
    "from sklearn.metrics import accuracy_score\n",
    "\n",
    "# 유방암 데이터셋 불러오기\n",
    "cancer = load_breast_cancer()\n",
    "\n",
    "# 특성 데이터와 레이블 데이터 분리\n",
    "X, y = cancer.data, cancer.target\n",
    "\n",
    "# 데이터셋을 훈련 세트와 테스트 세트로 분할\n",
    "X_train, X_test, y_train, y_test = train_test_split(X, y, test_size=0.3, random_state=42)\n",
    "\n",
    "# GaussianNB 모델 생성 및 훈련\n",
    "gnb = GaussianNB()\n",
    "gnb.fit(X_train, y_train)\n",
    "\n",
    "# 테스트 데이터에 대한 예측 수행\n",
    "predictions = gnb.predict(X_test)\n",
    "\n",
    "# 모델의 정확도 계산\n",
    "accuracy = accuracy_score(y_test, predictions)\n",
    "\n",
    "accuracy\n",
    "\n"
   ]
  }
 ],
 "metadata": {
  "language_info": {
   "name": "python"
  }
 },
 "nbformat": 4,
 "nbformat_minor": 2
}
