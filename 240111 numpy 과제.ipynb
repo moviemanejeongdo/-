{
 "cells": [
  {
   "cell_type": "code",
   "execution_count": 2,
   "metadata": {},
   "outputs": [
    {
     "data": {
      "text/plain": [
       "(array([ 1,  4,  9, 16]),\n",
       " array([1.        , 1.41421356, 1.73205081, 2.        ]))"
      ]
     },
     "execution_count": 2,
     "metadata": {},
     "output_type": "execute_result"
    }
   ],
   "source": [
    "#Q1_0111. 아래 배열에 제곱한 경우와 제곱근의 경우를 계산하여 출력하세요\n",
    "\n",
    "import numpy as np\n",
    "\n",
    "# 주어진 배열\n",
    "array = np.array([1, 2, 3, 4])\n",
    "\n",
    "# 제곱\n",
    "squared = array ** 2\n",
    "\n",
    "# 제곱근\n",
    "sqrt = np.sqrt(array)\n",
    "\n",
    "squared, sqrt  # 결과 출력   1 다음에 공백이 많은건 다른 열 값들의 길이와 맞추려고 해서 그런 것\n",
    "\n",
    "\n",
    "\n"
   ]
  },
  {
   "cell_type": "code",
   "execution_count": 3,
   "metadata": {},
   "outputs": [
    {
     "data": {
      "text/plain": [
       "(array([ 0,  1,  2,  3,  4,  5,  6,  7,  8,  9, 10, 11]),\n",
       " array([[ 0,  1,  2],\n",
       "        [ 3,  4,  5],\n",
       "        [ 6,  7,  8],\n",
       "        [ 9, 10, 11]]),\n",
       " array([[[ 0,  1,  2],\n",
       "         [ 3,  4,  5]],\n",
       " \n",
       "        [[ 6,  7,  8],\n",
       "         [ 9, 10, 11]]]))"
      ]
     },
     "execution_count": 3,
     "metadata": {},
     "output_type": "execute_result"
    }
   ],
   "source": [
    "# Q2_0111. ar을 하나 만들고 reshape() 함수 이용하여, 임의의 1차원, 2차원, 3차원 배열을 생성해보세요\n",
    "\n",
    "import numpy as np\n",
    "\n",
    "# 1차원 배열 생성\n",
    "ar = np.arange(12)\n",
    "\n",
    "# 2차원 배열로 변형\n",
    "ar_2d = ar.reshape(4, 3)\n",
    "\n",
    "# 3차원 배열로 변형\n",
    "ar_3d = ar.reshape(2, 2, 3)\n",
    "\n",
    "ar, ar_2d, ar_3d"
   ]
  },
  {
   "cell_type": "code",
   "execution_count": 7,
   "metadata": {},
   "outputs": [
    {
     "name": "stdout",
     "output_type": "stream",
     "text": [
      "1D_to_2D:\n",
      "[[0 1 2]\n",
      " [3 4 5]]\n",
      "\n",
      "1D_to_3D:\n",
      "[[[0]\n",
      "  [1]\n",
      "  [2]]\n",
      "\n",
      " [[3]\n",
      "  [4]\n",
      "  [5]]]\n",
      "\n",
      "2D_to_1D:\n",
      "[0 1 2 3 4 5]\n",
      "\n",
      "2D_to_3D:\n",
      "[[[0 1 2]\n",
      "  [3 4 5]]]\n",
      "\n",
      "3D_to_1D:\n",
      "[ 0  1  2  3  4  5  6  7  8  9 10 11]\n",
      "\n",
      "3D_to_2D:\n",
      "[[ 0  1  2  3  4  5]\n",
      " [ 6  7  8  9 10 11]]\n"
     ]
    }
   ],
   "source": [
    "#Q3_0111. 배열 변경\n",
    "\n",
    "# 1차원 배열 생성\n",
    "array_1d = np.arange(6)  # 0부터 5까지의 요소를 가진 1차원 배열\n",
    "\n",
    "# 1차원 -> 2차원 변환 (-1 사용)\n",
    "array_2d = array_1d.reshape(2, -1)  # 2행으로 변환, 열의 크기는 자동으로 결정  -1 을 쓰면 2행에 요소값 6개를 자동으로 열로 하는것 여기선 열이 3열로 알아서 계산 됨\n",
    "\n",
    "# 1차원 -> 3차원 변환 (-1 사용)\n",
    "array_3d = array_1d.reshape(2, -1, 1)  # 2x3x1 크기의 3차원 배열로 변환\n",
    "\n",
    "# 2차원 배열 생성 (예: 2x3)\n",
    "array_2d_original = np.array([[0, 1, 2], [3, 4, 5]])\n",
    "\n",
    "# 2차원 -> 1차원 변환\n",
    "array_1d_from_2d = array_2d_original.reshape(-1)  # 1차원 배열로 평탄화\n",
    "\n",
    "# 2차원 -> 3차원 변환 (-1 사용)\n",
    "array_3d_from_2d = array_2d_original.reshape(1, 2, -1)  # 1x2x3 크기의 3차원 배열로 변환\n",
    "\n",
    "# 3차원 배열 생성 (예: 2x2x3)\n",
    "array_3d_original = np.array([[[0, 1, 2], [3, 4, 5]], [[6, 7, 8], [9, 10, 11]]])\n",
    "\n",
    "# 3차원 -> 1차원 변환\n",
    "array_1d_from_3d = array_3d_original.reshape(-1)  # 1차원 배열로 평탄화\n",
    "\n",
    "# 3차원 -> 2차원 변환 (-1 사용)\n",
    "array_2d_from_3d = array_3d_original.reshape(2, -1)  # 2행으로 변환, 열의 크기는 자동으로 결정\n",
    "\n",
    "# 출력\n",
    "print(\"1D_to_2D:\")\n",
    "print(array_2d)\n",
    "print(\"\\n1D_to_3D:\")\n",
    "print(array_3d)\n",
    "print(\"\\n2D_to_1D:\")\n",
    "print(array_1d_from_2d)\n",
    "print(\"\\n2D_to_3D:\")\n",
    "print(array_3d_from_2d)\n",
    "print(\"\\n3D_to_1D:\")\n",
    "print(array_1d_from_3d)\n",
    "print(\"\\n3D_to_2D:\")\n",
    "print(array_2d_from_3d)\n",
    "\n",
    "\n"
   ]
  },
  {
   "cell_type": "code",
   "execution_count": 9,
   "metadata": {},
   "outputs": [
    {
     "name": "stdout",
     "output_type": "stream",
     "text": [
      "Reshaped Array:\n",
      " [[0 1 2]\n",
      " [3 4 5]]\n",
      "Resized Array:\n",
      " [[0 1]\n",
      " [2 3]\n",
      " [4 5]]\n"
     ]
    }
   ],
   "source": [
    "# Q4_0111. 1차원 배열을 생성 후 2,3차원 배열로 변경하고 각 2,3차원 배열을 1,3차원 1,2차원 배열로 다시 변경해서 출력하세요.\n",
    "\n",
    "\n",
    "\n",
    "import numpy as np\n",
    "\n",
    "# 1차원 배열 생성\n",
    "one_dimensional_array = np.arange(6)\n",
    "\n",
    "# 1차원 배열을 2차원 배열로 변경\n",
    "reshaped = one_dimensional_array.reshape(2, 3)\n",
    "print(\"Reshaped Array:\\n\", reshaped)\n",
    "\n",
    "# 배열 크기 조정 (Resize)\n",
    "resized = np.resize(one_dimensional_array, (3, 2))\n",
    "print(\"Resized Array:\\n\", resized)\n",
    "\n"
   ]
  },
  {
   "cell_type": "code",
   "execution_count": null,
   "metadata": {},
   "outputs": [],
   "source": [
    "# Q5_0111. 1차원 배열을 생성해서 2차원 배열로 변환한 후 다음 사항을 수행하세요\n",
    "\n",
    "# 2차원 배열을 리스트로 타입 변경해보세요\n",
    "# 리스트를 다시 배열로 변경하세요\n",
    "\n",
    "import numpy as np\n",
    "\n",
    "# 1차원 배열 생성\n",
    "array_1d = np.arange(10)  # 예를 들어, 0부터 9까지의 숫자가 있는 배열\n",
    "\n",
    "# 1차원 배열을 2차원 배열로 변환 (예: 5행 2열)\n",
    "array_2d = array_1d.reshape(5, 2)\n",
    "\n",
    "# 2차원 배열을 리스트로 변환\n",
    "list_2d = array_2d.tolist()\n",
    "\n",
    "# 리스트를 다시 배열로 변환\n",
    "array_from_list = np.array(list_2d)\n",
    "\n",
    "# 결과 출력\n",
    "array_1d, array_2d, list_2d, array_from_list\n",
    "\n"
   ]
  },
  {
   "cell_type": "code",
   "execution_count": 10,
   "metadata": {},
   "outputs": [
    {
     "name": "stdout",
     "output_type": "stream",
     "text": [
      "[[1 2 5 6]\n",
      " [3 4 7 8]]\n",
      "[[1 2 5 6]\n",
      " [3 4 7 8]]\n"
     ]
    }
   ],
   "source": [
    "# Q6_0111. 두 배열 [[1,2],[3,4]]와 [[5,6],[7,8]] 을 가로로 연결해보세요\n",
    "\n",
    "\n",
    "\n",
    "import numpy as np\n",
    "\n",
    "# 배열 생성\n",
    "array1 = np.array([[1, 2], [3, 4]])\n",
    "\n",
    "array2 = np.array([[5, 6], [7, 8]])\n",
    "\n",
    "# 배열 가로로 연결\n",
    "horizontal_concatenated = np.hstack((array1, array2))\n",
    "\n",
    "# 결과 출력\n",
    "print(horizontal_concatenated)\n",
    "\n",
    "\n",
    "a = np.array([[1,2],[3,4]])\n",
    "b = np.array( [[5,6],[7,8]])\n",
    "c = np.concatenate((a,b), axis=1)\n",
    "print(c)\n"
   ]
  },
  {
   "cell_type": "code",
   "execution_count": 11,
   "metadata": {},
   "outputs": [
    {
     "data": {
      "text/plain": [
       "array([[1, 2, 3],\n",
       "       [4, 5, 6]])"
      ]
     },
     "execution_count": 11,
     "metadata": {},
     "output_type": "execute_result"
    }
   ],
   "source": [
    "# Q7_0111. 두 배열 [[1,2,3]] 과 [[4,5,6]]을 세로로 연결해보세요\n",
    "\n",
    "# 배열 생성\n",
    "array1 = np.array([[1, 2, 3]])\n",
    "array2 = np.array([[4, 5, 6]])\n",
    "\n",
    "# 배열을 세로로 연결\n",
    "vertical_concatenated = np.vstack((array1, array2))\n",
    "\n",
    "# 결과 출력\n",
    "vertical_concatenated\n"
   ]
  },
  {
   "cell_type": "code",
   "execution_count": 12,
   "metadata": {},
   "outputs": [
    {
     "name": "stdout",
     "output_type": "stream",
     "text": [
      "[array([0, 1, 2]), array([3, 4, 5]), array([6, 7, 8])]\n",
      "[0 1 2]\n",
      "[3 4 5]\n",
      "[6 7 8]\n"
     ]
    }
   ],
   "source": [
    "# Q8_0111. 배열 [0,1,2,3,4,5,6,7,8]을 세 부분으로 나눠보세요 \n",
    "\n",
    "# 배열 생성\n",
    "array_to_split = np.array([0, 1, 2, 3, 4, 5, 6, 7, 8])\n",
    "\n",
    "# 배열을 세 부분으로 나누기 위한 분할 지점 설정\n",
    "split_indices = [3, 6]\n",
    "\n",
    "# 배열 분할\n",
    "split_arrays = np.split(array_to_split, split_indices)\n",
    "\n",
    "# 분할된 배열 출력\n",
    "print(split_arrays)\n",
    "\n",
    "\n",
    "arr22 = np.array([0,1,2,3,4,5,6,7,8])\n",
    "\n",
    "arr23, arr24, arr25 = np.split(arr22, 3)\n",
    "\n",
    "print(arr23)\n",
    "print(arr24)\n",
    "print(arr25)\n"
   ]
  },
  {
   "cell_type": "code",
   "execution_count": null,
   "metadata": {},
   "outputs": [],
   "source": [
    "# Q9_0111. array2d에서 슬라이싱을 사용해서 아래와 같이 출력하는 코드를 만들어보세요\n",
    "\n",
    "# 1.\n",
    "# [[1 2]\n",
    "# [4 5]]\n",
    "\n",
    "# 2.\n",
    "# (2가지 방법으로 뽑아보세요)\n",
    "# [[4 5 6]\n",
    "# [7 8 9]]\n",
    "\n",
    "# 3.\n",
    "# [[1 2 3]\n",
    "# [4 5 6]\n",
    "# [7 8 9]]\n",
    "\n",
    "# 4.\n",
    "# [[2 3]\n",
    "# [5 6]]\n",
    "\n",
    "# 5.\n",
    "# [1 4]\n",
    "\n",
    "\n",
    "# arr2d 배열 생성\n",
    "array2d = np.arange(1, 10).reshape(3, 3)\n",
    "\n",
    "# 각 요구사항에 맞는 슬라이싱\n",
    "# 1. [[1 2] [4 5]]\n",
    "slice1 = array2d[0:2, 0:2]\n",
    "\n",
    "# 2. [[4 5 6] [7 8 9]] (두 가지 방법)\n",
    "slice2a = array2d[1:3, :]      # 첫 번째 방법: 1~2행, 모든 열\n",
    "slice2b = array2d[1:3, 0:3]    # 두 번째 방법: 1~2행, 0~2열\n",
    "\n",
    "# 3. [[1 2 3] [4 5 6] [7 8 9]]\n",
    "slice3 = array2d               # 전체 배열\n",
    "\n",
    "# 4. [[2 3] [5 6]]\n",
    "slice4 = array2d[0:2, 1:3]\n",
    "\n",
    "# 5. [1 4]\n",
    "slice5 = array2d[0:2, 0]       # 0~1행, 0열\n",
    "\n",
    "slice1, slice2a, slice2b, slice3, slice4, slice5\n",
    "\n",
    "\n",
    "\n"
   ]
  },
  {
   "cell_type": "code",
   "execution_count": 13,
   "metadata": {},
   "outputs": [
    {
     "data": {
      "text/plain": [
       "array([11, 12, 13, 14])"
      ]
     },
     "execution_count": 13,
     "metadata": {},
     "output_type": "execute_result"
    }
   ],
   "source": [
    "# Q10_0111. 1~14 까지 ndarray를 만들어서 array_e로 저장하고 (array_e / 2) > 5 를 만족하는 값을 불린 인덱스로 출력하는 코드를 만드세요.\n",
    "\n",
    "# 1부터 14까지의 ndarray 생성 및 array_e에 저장\n",
    "array_e = np.arange(1, 15)\n",
    "\n",
    "# (array_e / 2) > 5를 만족하는 값 불린 인덱스로 출력\n",
    "result = array_e[(array_e / 2) > 5]\n",
    "result\n",
    "\n",
    "\n"
   ]
  },
  {
   "cell_type": "code",
   "execution_count": 14,
   "metadata": {},
   "outputs": [
    {
     "data": {
      "text/plain": [
       "([10, 20, 30, 40, 50, 60, 70, 80, 90, 100],\n",
       " array([ 10,  20,  30,  40,  50,  60,  70,  80,  90, 100]))"
      ]
     },
     "execution_count": 14,
     "metadata": {},
     "output_type": "execute_result"
    }
   ],
   "source": [
    "# Q11_0111. 1~100까지 정수에서 5의 배수이면서 2의 배수인 것만을 출력하는 코드를 만드세요 (for문과 배열 두가지 방식으로 만들어 보세요)\n",
    "\n",
    "# for문을 사용하여 1부터 100까지 정수 중 5의 배수이면서 2의 배수인 것을 찾기\n",
    "result_for = [num for num in range(1, 101) if num % 5 == 0 and num % 2 == 0]\n",
    "\n",
    "# 넘파이 배열을 사용하여 같은 조건을 만족하는 값 찾기\n",
    "array = np.arange(1, 101)\n",
    "result_array = array[(array % 5 == 0) & (array % 2 == 0)]\n",
    "\n",
    "result_for, result_array\n",
    "\n",
    "\n"
   ]
  },
  {
   "cell_type": "code",
   "execution_count": 15,
   "metadata": {},
   "outputs": [
    {
     "data": {
      "text/plain": [
       "(array([[ 0.75223977,  0.33787151,  2.35051848, -1.85747467,  1.30727047],\n",
       "        [-1.43736932, -0.3336459 ,  0.11834658,  1.62012719,  0.00628932],\n",
       "        [ 2.67349027,  1.19736683,  1.13693977,  1.08845889,  0.5194499 ],\n",
       "        [ 0.08451416, -0.1200999 , -1.55845048,  0.27421911,  0.77831745],\n",
       "        [ 0.56946711,  0.94754833,  0.20714433, -0.17021702, -0.14111333]]),\n",
       " 0.4140483529650992,\n",
       " 1.052009873689129)"
      ]
     },
     "execution_count": 15,
     "metadata": {},
     "output_type": "execute_result"
    }
   ],
   "source": [
    "# Q12_0111. 표준정규분포로 구성된 5행 5열 다차원 배열을 생성하고 함수를 이용하여 평균과 표준편차를 구하는 코드 작성해주세요\n",
    "\n",
    "# 표준정규분포로 구성된 5행 5열 다차원 배열 생성\n",
    "array_normal = np.random.randn(5, 5)\n",
    "\n",
    "# 평균과 표준편차 계산\n",
    "mean = np.mean(array_normal)\n",
    "std_dev = np.std(array_normal)\n",
    "\n",
    "array_normal, mean, std_dev\n",
    "\n",
    "\n"
   ]
  },
  {
   "cell_type": "code",
   "execution_count": null,
   "metadata": {},
   "outputs": [],
   "source": []
  }
 ],
 "metadata": {
  "kernelspec": {
   "display_name": "Python 3",
   "language": "python",
   "name": "python3"
  },
  "language_info": {
   "codemirror_mode": {
    "name": "ipython",
    "version": 3
   },
   "file_extension": ".py",
   "mimetype": "text/x-python",
   "name": "python",
   "nbconvert_exporter": "python",
   "pygments_lexer": "ipython3",
   "version": "3.10.11"
  }
 },
 "nbformat": 4,
 "nbformat_minor": 2
}
